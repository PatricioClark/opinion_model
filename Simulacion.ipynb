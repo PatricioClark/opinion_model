{
 "cells": [
  {
   "cell_type": "code",
   "execution_count": 1,
   "metadata": {},
   "outputs": [],
   "source": [
    "import matplotlib.pyplot as plt\n",
    "import numpy as np\n",
    "import os\n",
    "import imageio"
   ]
  },
  {
   "cell_type": "code",
   "execution_count": 23,
   "metadata": {},
   "outputs": [],
   "source": [
    "def gif_sol(Y,t,x):  \n",
    "  filenames = []  \n",
    "  for i in range(len(t)):    \n",
    "    plt.title(f'Solucion a t = {t[i]}')\n",
    "    plt.plot(x,Y[i],'o')\n",
    "    # create file name and append it to a list\n",
    "    filename = f'{i}.png'    \n",
    "    for j in range(10):       \n",
    "       filenames.append(filename)                 \n",
    "    # save frame\n",
    "    plt.savefig(filename)\n",
    "    plt.close()  \n",
    "  # build gif\n",
    "  with imageio.get_writer('solution.gif', mode='I',duration=0.001) as writer:    \n",
    "    for filename in filenames:\n",
    "        image = imageio.imread(filename)\n",
    "        writer.append_data(image)          \n",
    "  # Remove files \n",
    "  for filename in set(filenames):    \n",
    "    os.remove(filename)\n",
    "def linear(x):\n",
    "   sol = np.where((x<-1) | (x>1),0,1) * ((x+1)/2)\n",
    "   return sol.reshape(len(x),1)\n",
    "def solution(n,t):  \n",
    "  sol = np.zeros(len(n))\n",
    "  for i in range(len(n)):\n",
    "    x = n[i]\n",
    "    t_0 = t[0]\n",
    "    lower = t_0 - 1\n",
    "    uper = 1 - t_0    \n",
    "    sol[i] = np.where((x<lower) | (x>uper),0,1) * 1/(2-2*t_0) \n",
    "  return sol.reshape((len(n),1))\n",
    "def simulacion(condicion_inicial,h):\n",
    "  rand_pos = np.random.randint(0,len(condicion_inicial))\n",
    "  for i in range(len(condicion_inicial)):\n",
    "    while i == rand_pos:\n",
    "     rand_pos = np.random.randint(0,len(condicion_inicial))\n",
    "    if condicion_inicial[i] > condicion_inicial[rand_pos]:\n",
    "        condicion_inicial[i] -= h\n",
    "        condicion_inicial[rand_pos] += h\n",
    "    if condicion_inicial[i] <= condicion_inicial[rand_pos]:\n",
    "        condicion_inicial[i] += h\n",
    "        condicion_inicial[rand_pos] -= h\n",
    "  return(condicion_inicial)     "
   ]
  },
  {
   "cell_type": "code",
   "execution_count": 25,
   "metadata": {},
   "outputs": [
    {
     "data": {
      "image/png": "[encoded data removed]",
      "text/plain": [
       "<Figure size 432x288 with 1 Axes>"
      ]
     },
     "metadata": {
      "needs_background": "light"
     },
     "output_type": "display_data"
    }
   ],
   "source": [
    "N = 10000  \n",
    "h = 0.01\n",
    "nt = 1000\n",
    "agentes = np.linspace(-1,1,N)\n",
    "tiempo = np.linspace(0,1,nt)\n",
    "cond_ini = solution(agentes,tiempo)\n",
    "plt.plot(agentes,cond_ini,'o')\n",
    "plt.show()\n",
    "\n",
    "test = []\n",
    "for i in range(len(tiempo)):\n",
    "    test.append(cond_ini)\n",
    "    u = simulacion(cond_ini,h)\n",
    "    cond_ini = u\n"
   ]
  },
  {
   "cell_type": "code",
   "execution_count": 26,
   "metadata": {},
   "outputs": [],
   "source": [
    "gif_sol(test,tiempo,agentes)"
   ]
  },
  {
   "cell_type": "code",
   "execution_count": 17,
   "metadata": {},
   "outputs": [
    {
     "data": {
      "text/plain": [
       "[<matplotlib.lines.Line2D at 0x7f8129b8dee0>]"
      ]
     },
     "execution_count": 17,
     "metadata": {},
     "output_type": "execute_result"
    },
    {
     "data": {
      "image/png": "[encoded data removed]",
      "text/plain": [
       "<Figure size 432x288 with 1 Axes>"
      ]
     },
     "metadata": {
      "needs_background": "light"
     },
     "output_type": "display_data"
    }
   ],
   "source": [
    "plt.plot(agentes,solution(agentes,tiempo))"
   ]
  }
 ],
 "metadata": {
  "kernelspec": {
   "display_name": "base",
   "language": "python",
   "name": "python3"
  },
  "language_info": {
   "codemirror_mode": {
    "name": "ipython",
    "version": 3
   },
   "file_extension": ".py",
   "mimetype": "text/x-python",
   "name": "python",
   "nbconvert_exporter": "python",
   "pygments_lexer": "ipython3",
   "version": "3.8.8"
  },
  "orig_nbformat": 4
 },
 "nbformat": 4,
 "nbformat_minor": 2
}
